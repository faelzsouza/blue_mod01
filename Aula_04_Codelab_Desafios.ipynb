{
  "nbformat": 4,
  "nbformat_minor": 0,
  "metadata": {
    "colab": {
      "name": "Aula_04_Codelab - Desafios.ipynb",
      "provenance": [],
      "include_colab_link": true
    },
    "kernelspec": {
      "name": "python3",
      "display_name": "Python 3.9.5 64-bit"
    },
    "language_info": {
      "name": "python",
      "version": "3.9.5"
    },
    "interpreter": {
      "hash": "118e1cf5d34815ad539b3a26d83e8a6e7cf7f4efc709d5ddabe395f963f28379"
    }
  },
  "cells": [
    {
      "cell_type": "markdown",
      "metadata": {
        "id": "view-in-github",
        "colab_type": "text"
      },
      "source": [
        "<a href=\"https://colab.research.google.com/github/faelzsouza/blue_mod01/blob/main/Aula_04_Codelab_Desafios.ipynb\" target=\"_parent\"><img src=\"https://colab.research.google.com/assets/colab-badge.svg\" alt=\"Open In Colab\"/></a>"
      ]
    },
    {
      "cell_type": "markdown",
      "metadata": {
        "id": "NRhLAMa6ZfqU"
      },
      "source": [
        "## **DESAFIO 01**\n",
        "\n",
        "**Reajuste salarial**\n",
        "\n",
        "As empresas @.com resolveram dar um aumento de salário aos seus colaboradores e lhe contrataram para desenvolver o programa que calculará os reajustes.\n",
        "\n",
        "Faça um programa que recebe o salário de um colaborador e o reajuste segundo o seguinte critério, baseado no salário atual:\n",
        "* salários até R$ 280,00 (incluindo) : aumento de 20%\n",
        "\n",
        "* salários entre R\\$ 280,00 e R$ 700,00 : aumento de 15%\n",
        "\n",
        "* salários entre R\\$ 700,00 e R$ 1500,00 : aumento de 10%\n",
        "\n",
        "* salários de R$ 1500,00 em diante : aumento de 5% \n",
        "\n",
        "Após o aumento ser realizado, informe na tela:\n",
        "* o salário antes do reajuste;\n",
        "\n",
        "* o percentual de aumento aplicado;\n",
        "\n",
        "* o valor do aumento;\n",
        "\n",
        "* o novo salário, após o aumento.\""
      ]
    },
    {
      "cell_type": "code",
      "metadata": {
        "id": "VpC5oZINZXzt",
        "colab": {
          "base_uri": "https://localhost:8080/"
        },
        "outputId": "6e7a3a7d-ff49-4328-9a87-2317e44d5bdf"
      },
      "source": [
        "salario = float(input(\"Valor do salário: \"))\n",
        "aumento = 0\n",
        "porc = 0\n",
        "if salario < 280:\n",
        "  aumento = salario * 0.20\n",
        "  porc = 20\n",
        "elif 280 <= salario < 700:\n",
        "  aumento = salario * 0.15\n",
        "  porc = 15\n",
        "elif 700 <= salario < 1500:\n",
        "  aumento = salario * 0.10\n",
        "  porc = 10\n",
        "else:\n",
        "  aumento = salario * 0.05\n",
        "  porc = 5\n",
        "\n",
        "print(f\"O salário de R${salario:.2f}\\nteve um aumento de {porc}%\\nque dá um total de R${aumento:.2f} de aumento\\ne o novo salário é R${salario + aumento:.2f}\")"
      ],
      "execution_count": null,
      "outputs": []
    },
    {
      "cell_type": "markdown",
      "metadata": {
        "id": "HvThpbU4aBGy"
      },
      "source": [
        "## **DESAFIO 02**\n",
        "\n",
        "**Jogo da adivinhação**\n",
        "\n",
        "Escreva um programa que faça o computador “pensar” em um número inteiro entre 0 e 10 e peça para o usuário tentar descobrir qual foi o número escolhido pelo computador. O programa deverá escrever na tela se o usuário venceu ou perdeu."
      ]
    },
    {
      "cell_type": "code",
      "metadata": {
        "id": "ufD4OzxkaN1X"
      },
      "source": [
        "from random import randint\n",
        "\n",
        "numeroAleatorio = randint(0,10)\n",
        "n = int(input(\"Estou pensando num número de 0 a 10, você sabe qual é?\\n\"))\n",
        "if numeroAleatorio == n: \n",
        "  print(\"Você acertou!\")\n",
        "else:\n",
        "  print(f\"Você errou, eu pensei no {numeroAleatorio}!\")"
      ],
      "execution_count": null,
      "outputs": []
    },
    {
      "cell_type": "markdown",
      "metadata": {
        "id": "mjLFAUooaOH1"
      },
      "source": [
        "## **Projeto da semana**\n",
        "\n",
        "**Caixa eletrônico**\n",
        "\n",
        "Faça um Programa para um caixa eletrônico. O programa deverá perguntar ao usuário a valor do saque e depois informar quantas notas de cada valor serão fornecidas. As notas disponíveis serão as de 1, 5, 10, 50 e 100 reais. O valor mínimo é de 10 reais e o máximo de 600 reais. O programa não deve se preocupar com a quantidade de notas existentes na máquina.\n",
        "\n",
        "* Exemplo 1: Para sacar a quantia de 256 reais, o programa fornece duas notas de 100, uma nota de 50, uma nota de 5 e uma nota de 1;\n",
        "\n",
        "* Exemplo 2: Para sacar a quantia de 399 reais, o programa fornece três notas de 100, uma nota de 50, quatro notas de 10, uma nota de 5 e quatro notas de 1.\n",
        "\n"
      ]
    },
    {
      "source": [
        "print(\"=-=\" * 5 , \"CAIXA ELETRÔNICO\" , \"=-=\" * 5)\n",
        "valorSaque = int(input(\"Olá, quanto deseja sacar? [R$10,00 - R$600,00]\\nR$ \"))\n",
        "cedulas = [100, 50, 10, 5, 1]\n",
        "if 10 <= valorSaque <= 600:\n",
        "  print(\"Seu saque será de: \")\n",
        "  for c in cedulas:\n",
        "    if valorSaque > 0:\n",
        "      cont = 0\n",
        "      while valorSaque >= c:\n",
        "        cont += 1\n",
        "        valorSaque -= c\n",
        "      if cont > 0: print(f\"{cont} nota(s) de R${c},00\")\n",
        "  print(\"=-=\" * 16)\n",
        "  print(\"  Pegue seu dinheiro no local indicado abaixo!\")\n",
        "  print(\"=-=\" * 16)\n",
        "else:\n",
        "  print(\"=-=\" * 16)\n",
        "  print(\"Saque disponível apenas para valor entre R$10,00\\ne R$600,00!\")\n",
        "  print(\"=-=\" * 16)"
      ],
      "cell_type": "code",
      "metadata": {
        "id": "S7gbFodVawK1"
      },
      "execution_count": null,
      "outputs": []
    }
  ]
}