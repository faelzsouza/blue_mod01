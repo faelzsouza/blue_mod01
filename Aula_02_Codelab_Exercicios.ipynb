{
  "nbformat": 4,
  "nbformat_minor": 0,
  "metadata": {
    "colab": {
      "name": "Aula_02_Codelab_Exercicios.ipynb",
      "provenance": [],
      "collapsed_sections": [
        "HqgnPaCGqMPB",
        "w1T7s2q0p-pt"
      ],
      "include_colab_link": true
    },
    "kernelspec": {
      "name": "python3",
      "display_name": "Python 3"
    },
    "language_info": {
      "name": "python"
    }
  },
  "cells": [
    {
      "cell_type": "markdown",
      "metadata": {
        "id": "view-in-github",
        "colab_type": "text"
      },
      "source": [
        "<a href=\"https://colab.research.google.com/github/faelzsouza/blue_mod01/blob/main/Aula_02_Codelab_Exercicios.ipynb\" target=\"_parent\"><img src=\"https://colab.research.google.com/assets/colab-badge.svg\" alt=\"Open In Colab\"/></a>"
      ]
    },
    {
      "cell_type": "markdown",
      "metadata": {
        "id": "w1T7s2q0p-pt"
      },
      "source": [
        "# Mini projetos"
      ]
    },
    {
      "cell_type": "markdown",
      "metadata": {
        "id": "meUw7PTwqC-Y"
      },
      "source": [
        "## #01 - Conversor de moedas\n",
        "\n",
        "Crie um programa que solicite um um valor em real ao usuário e converta esse valor, para:\n",
        "\n",
        "- DOLAR,\n",
        "- EURO,\n",
        "- LIBRA ESTERLINA,\n",
        "- DÓLAR CANADENSE,\n",
        "- PESO ARGENTINO,\n",
        "- PESO CHILENO.\n",
        "\n",
        "Para esse exercício você precisará realizar uma pesquisa para saber a cotação de cada moeda em real. Mostrar o resultado no formato $ XXXX.XX"
      ]
    },
    {
      "cell_type": "code",
      "metadata": {
        "colab": {
          "base_uri": "https://localhost:8080/"
        },
        "id": "7hArXYYRPZd3",
        "outputId": "f1a032f6-7738-446d-fb39-122c0a69214a"
      },
      "source": [
        "#01\n",
        "\n",
        "valor = float(input(\"Digite o valor em real para conversão: \"))\n",
        "print(f\"Dolar: {(valor / 5.04):.2f}\")\n",
        "print(f\"Euro: {(valor / 6.13):.2f}\")\n",
        "print(f\"Libra Esterlina: {(valor / 7.13):.2f}\")\n",
        "print(f\"Dólar Canadense: {(valor / 4.16):.2f}\")\n",
        "print(f\"Peso Argentino: {(valor / 0.053):.2f}\")\n",
        "print(f\"Peso Chileno: {(valor / 0.0070):.2f}\")"
      ],
      "execution_count": null,
      "outputs": [
        {
          "output_type": "stream",
          "text": [
            "Digite o valor em real para conversão: 100\n",
            "Dolar: 19.84\n",
            "Euro: 16.31\n",
            "Libra Esterlina: 14.03\n",
            "Dólar Canadense: 24.04\n",
            "Peso Argentino: 1886.79\n",
            "Peso Chileno: 14285.71\n"
          ],
          "name": "stdout"
        }
      ]
    },
    {
      "cell_type": "markdown",
      "metadata": {
        "id": "KK9PIcJ4qIF9"
      },
      "source": [
        "## #02 - Calculadora de aumento de aluguel\n",
        "\n",
        "Vamos construir um programa que irá calcular o aumento anual do seu aluguel.\n",
        "\n",
        "A sua calculadora vai receber o `valor do aluguel` e calcular o aumento baseado no `IGPM de 31%`. A calculadora deve apresentar o aluguel reajustado no formato `R$ XXXX.XX`."
      ]
    },
    {
      "cell_type": "code",
      "metadata": {
        "colab": {
          "base_uri": "https://localhost:8080/"
        },
        "id": "SR9HR0oHSx4_",
        "outputId": "429d20d1-6c43-46cb-b175-b08c60d3afc4"
      },
      "source": [
        "#02\n",
        "\n",
        "valor_aluguel = float(input(\"Digite o valor do aluguel: \"))\n",
        "print(f\"O valor reajustado baseado no IGPM de 31% é: R${(valor_aluguel + valor_aluguel * 31 / 100):.2f}\")"
      ],
      "execution_count": null,
      "outputs": [
        {
          "output_type": "stream",
          "text": [
            "Digite o valor do aluguel: 1500\n",
            "O valor reajustado baseado no IGPM de 31% é: R$1965.00\n"
          ],
          "name": "stdout"
        }
      ]
    }
  ]
}