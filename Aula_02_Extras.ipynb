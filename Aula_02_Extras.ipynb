{
  "nbformat": 4,
  "nbformat_minor": 0,
  "metadata": {
    "colab": {
      "name": "Aula_02_Extras.ipynb",
      "provenance": [],
      "collapsed_sections": [
        "V4Kg2SPIS27-",
        "EGWXGUI8_x-j",
        "khy9z-jP_qV_",
        "6LoX6mhVUy5S",
        "xWcbRWxRV8yM",
        "CvO7KWU-WWxo"
      ],
      "include_colab_link": true
    },
    "kernelspec": {
      "name": "python3",
      "display_name": "Python 3"
    },
    "language_info": {
      "name": "python"
    }
  },
  "cells": [
    {
      "cell_type": "markdown",
      "metadata": {
        "id": "view-in-github",
        "colab_type": "text"
      },
      "source": [
        "<a href=\"https://colab.research.google.com/github/faelzsouza/blue_mod01/blob/main/Aula_02_Extras.ipynb\" target=\"_parent\"><img src=\"https://colab.research.google.com/assets/colab-badge.svg\" alt=\"Open In Colab\"/></a>"
      ]
    },
    {
      "cell_type": "markdown",
      "metadata": {
        "id": "Zmfx8vBO8wR6"
      },
      "source": [
        "# **Comando Print, Variáveis e Input**"
      ]
    },
    {
      "cell_type": "markdown",
      "metadata": {
        "id": "4ReexIAhAFbN"
      },
      "source": [
        "## Comando Print\n",
        "\n",
        "> Print é uma função que imprimi na tela valores:"
      ]
    },
    {
      "cell_type": "code",
      "metadata": {
        "id": "YjlUA_szAhWD"
      },
      "source": [
        "print('Hello World')"
      ],
      "execution_count": null,
      "outputs": []
    },
    {
      "cell_type": "markdown",
      "metadata": {
        "id": "zFj9aBNBAfLd"
      },
      "source": [
        "## Variável\n",
        "\n",
        "> Variável é um espaço na memória RAM que guarda algum dado.\n",
        "\n",
        "> Em Python todas as váriáveis precisam ser inicializadas com um valor:"
      ]
    },
    {
      "cell_type": "code",
      "metadata": {
        "id": "9lZjvDRiKBQM"
      },
      "source": [
        "idade = 23 #Variável idade que recebe o valor 23\n",
        "\n",
        "print(idade) #Comando print para imprimir na tela o valor da variável idade."
      ],
      "execution_count": null,
      "outputs": []
    },
    {
      "cell_type": "markdown",
      "metadata": {
        "id": "vaw1fz7-BCVx"
      },
      "source": [
        "Tipos de variáveis:\n",
        "\n",
        "* str = Valores entre aspas\n",
        "* int = Número inteiros\n",
        "* float = Números decimais\n",
        "* bool = Valores booleanos: True ou False (sempre com a primeira letra maiúscula)\n",
        "\n",
        "> Para descobrir qual é o tipo de uma variável eu preciso execultar:"
      ]
    },
    {
      "cell_type": "code",
      "metadata": {
        "id": "zwy7soEyKJq0"
      },
      "source": [
        "idade = 23\n",
        "\n",
        "print(type(idade)) #função type que identifica o tipo da var e função print para mostrar na tela o tipo"
      ],
      "execution_count": null,
      "outputs": []
    },
    {
      "cell_type": "markdown",
      "metadata": {
        "id": "XnjTC3EIBd0G"
      },
      "source": [
        "F String:\n",
        "\n",
        "> É uma forma de escrevermos uma string com variáveis concatenadas de forma elegante:"
      ]
    },
    {
      "cell_type": "code",
      "metadata": {
        "id": "gLBw8OcWKUjZ"
      },
      "source": [
        "idade = 23\n",
        "\n",
        "print(f'Sua var idade tem o valor {idade} que é do tipo: {type(idade)}') #Entre chaves coloque valores que não são string"
      ],
      "execution_count": null,
      "outputs": []
    },
    {
      "cell_type": "markdown",
      "metadata": {
        "id": "lRjoPpltDLPE"
      },
      "source": [
        "Uma forma simples de atribuir o mesmo valor a várias variáveis é:"
      ]
    },
    {
      "cell_type": "code",
      "metadata": {
        "id": "atb1jXXlDQ4W"
      },
      "source": [
        "peso = idade = quantidade = 60\n",
        "\n",
        "print(f'Peso: {peso}, Idade: {idade}, Quantidade: {quantidade}')"
      ],
      "execution_count": null,
      "outputs": []
    },
    {
      "cell_type": "markdown",
      "metadata": {
        "id": "WwAL83jcDUcj"
      },
      "source": [
        "Você pode atribuir valores diferentes a variáveis diferentes na mesma linha:"
      ]
    },
    {
      "cell_type": "code",
      "metadata": {
        "id": "njSJCSVKDTzj"
      },
      "source": [
        "inteiro, texto, booleano, flutuante = 23, \"Olá\", True, 23.5\n",
        "\n",
        "# Para colocar cada item em uma linha é só adicionar um \\n entre as informações:\n",
        "print(f'Inteiro: {inteiro}\\nTexto: {texto}\\nBooleano: {booleano}\\nFlutuante: {flutuante}')"
      ],
      "execution_count": null,
      "outputs": []
    },
    {
      "cell_type": "markdown",
      "metadata": {
        "id": "nbOsnDXiB4Tf"
      },
      "source": [
        "## Função Input\n",
        "\n",
        "> É uma função que solicita ao usuário algum valor, ele sempre transforma o valor inserido em uma string:"
      ]
    },
    {
      "cell_type": "code",
      "metadata": {
        "id": "Pwhy755zKXVA"
      },
      "source": [
        "idade = input('Quantos anos você tem? ')\n",
        "\n",
        "print(type(idade))\n",
        "print(f'Que legal! Você tem {idade} anos')"
      ],
      "execution_count": null,
      "outputs": []
    },
    {
      "cell_type": "markdown",
      "metadata": {
        "id": "-XF5xhnqDjpP"
      },
      "source": [
        "Para mudar o tipo do valor que vai entrar no input você pode utilizar as funções:\n",
        "\n",
        "* str() - Garante o tipo string\n",
        "* int() - Altera para o tipo inteiro\n",
        "* float() - Altera para o tipo float\n",
        "\n",
        "Podemos utilizar isso para solicitar dois valores e fazer a soma deles por exemplo:"
      ]
    },
    {
      "cell_type": "code",
      "metadata": {
        "id": "_niaE3ekERtc"
      },
      "source": [
        "valor1 = int(input('Digite o primeiro valor: '))\n",
        "valor2 = int(input('Digite os egundo valor: '))\n",
        "soma = valor1 + valor2\n",
        "\n",
        "print(f'A soma de {valor1} + {valor2} é = {soma}')"
      ],
      "execution_count": null,
      "outputs": []
    },
    {
      "cell_type": "markdown",
      "metadata": {
        "id": "tTu_CWTjI946"
      },
      "source": [
        "## Primeiros Exercícios\n"
      ]
    },
    {
      "cell_type": "markdown",
      "metadata": {
        "id": "lmPZx5u4RoQZ"
      },
      "source": [
        "01 - Elabore um programa que imprima na tela a seguinte frase `Olá Mundo! Esse é o meu primeiro programa`"
      ]
    },
    {
      "cell_type": "code",
      "metadata": {
        "colab": {
          "base_uri": "https://localhost:8080/"
        },
        "id": "zrxSwImgahCW",
        "outputId": "b6f5bf23-4ab9-4432-a14c-2c8910267312"
      },
      "source": [
        "print(\"Olá Mundo! Esse é o meu primeiro programa\")"
      ],
      "execution_count": null,
      "outputs": [
        {
          "output_type": "stream",
          "text": [
            "Olá Mundo! Esse é o meu primeiro programa\n"
          ],
          "name": "stdout"
        }
      ]
    },
    {
      "cell_type": "markdown",
      "metadata": {
        "id": "Spj9tyYQRgXi"
      },
      "source": [
        "02 - Elabore um programa que escreve seu nome completo na primeira linha, seu endereço na segunda e o CEP e telefone na terceira.  \n",
        "\n",
        "**Exemplo:**\n",
        "```\n",
        "Nome: Bruno Fabri\n",
        "Endereço: Rua ABC\n",
        "CEP: 002220-010\n",
        "```"
      ]
    },
    {
      "cell_type": "code",
      "metadata": {
        "colab": {
          "base_uri": "https://localhost:8080/"
        },
        "id": "5IJP9yoMapnY",
        "outputId": "fdd1f376-5a65-489a-e1a8-b40d644a22cc"
      },
      "source": [
        "print(f\"Nome: Rafael de Souza Martins\")\n",
        "print(f\"Endereço: Rua Espumas, 230 - Jd Guanabara\")\n",
        "print(f\"CEP: 21941-170 e Telefone: 969744590\")"
      ],
      "execution_count": null,
      "outputs": [
        {
          "output_type": "stream",
          "text": [
            "Digite seu nome completo: Rafael de Souza Martins\n",
            "Digite seu endereço: Rua Espumas, 230\n",
            "Digite seu CEP: 21941-170\n",
            "Digite seu telefone: 969744590\n",
            "Nome: Rafael de Souza Martins\n",
            "Endereço: Rua Espumas, 230\n",
            "CEP: 21941-170 e Telefone: 969744590\n"
          ],
          "name": "stdout"
        }
      ]
    },
    {
      "cell_type": "markdown",
      "metadata": {
        "id": "VkAAhkqYR2Tj"
      },
      "source": [
        "03 - Elabore um programa que recebe o nome de uma pessoa do terminal e mostra a seguinte mensagem: `Olá {nome}! Seja bem vindo ao fantástico mundo da programação`"
      ]
    },
    {
      "cell_type": "code",
      "metadata": {
        "colab": {
          "base_uri": "https://localhost:8080/"
        },
        "id": "O9XIligbb0cm",
        "outputId": "4a714769-a559-4f80-94cb-0b7171b71d56"
      },
      "source": [
        "nome = input(\"Qual é o seu nome? \")\n",
        "print(f\"Olá {nome}! Seja bem-vindo(a) ao fantástico mundo da programação\")"
      ],
      "execution_count": null,
      "outputs": [
        {
          "output_type": "stream",
          "text": [
            "Qual é o seu nome? Rafael\n",
            "Olá Rafael! Seja bem-vindo(a) ao fantástico mundo da programação\n"
          ],
          "name": "stdout"
        }
      ]
    },
    {
      "cell_type": "markdown",
      "metadata": {
        "id": "uT2UBCKsQNNq"
      },
      "source": [
        "# **Operadores: Aritméticos, Relacionais e Lógicos**"
      ]
    },
    {
      "cell_type": "markdown",
      "metadata": {
        "id": "Z430fIZXE3Wn"
      },
      "source": [
        "## Operadores Aritméticos\n",
        "\n",
        "Simbolo   | Significado\n",
        "--------- | ---------\n",
        "+ | Adição\n",
        "- | Subtração\n",
        "* | Multiplicação\n",
        "/ | Divisão\n",
        "// | Divisão inteira\n",
        "** | Exponenciação\n",
        "% | Resto da divisão(mod)\n",
        "\n",
        "Agora vamos solicitar um valor para o user, para realizarmos todas essas operações, porém precisamos converter o valor do input como vimos anteriormente:"
      ]
    },
    {
      "cell_type": "code",
      "metadata": {
        "id": "LjBN25O0Qdmj"
      },
      "source": [
        "n1 = int(input('Digite o primeiro número: '))\n",
        "n2 = int(input('Digite o segundo número: '))\n",
        "\n",
        "soma = n1 + n2\n",
        "sub = n1 - n2\n",
        "mult = n1 * n2\n",
        "div = n1 / n2\n",
        "divInteira = n1 // n2\n",
        "expo = n1 ** n2\n",
        "mod = n1 % n2\n",
        "\n",
        "print(f'{n1} + {n2} = {soma}')\n",
        "print(f'{n1} - {n2} = {sub}')\n",
        "print(f'{n1} * {n2} = {mult}')\n",
        "print(f'{n1} / {n2} = {div}')\n",
        "print(f'{n1} // {n2} = {divInteira}')\n",
        "print(f'{n1} ** {n2} = {expo}')\n",
        "print(f'{n1} % {n2} = {mod}')\n"
      ],
      "execution_count": null,
      "outputs": []
    },
    {
      "cell_type": "markdown",
      "metadata": {
        "id": "yihBwIjyGMIw"
      },
      "source": [
        "Para limitar as casas decimais de uma var float precisamos aplicar essa formatação:"
      ]
    },
    {
      "cell_type": "code",
      "metadata": {
        "id": "CWkaWk7LRboQ"
      },
      "source": [
        "n1 = int(input('Digite o primeiro número: '))\n",
        "n2 = int(input('Digite o segundo número: '))\n",
        "\n",
        "div = n1 / n2\n",
        "\n",
        "print(f'{n1} / {n2} = {div:.2f}') # 2f é a quantidade de casas decimais desejadas.\n",
        "\n"
      ],
      "execution_count": null,
      "outputs": []
    },
    {
      "cell_type": "markdown",
      "metadata": {
        "id": "XtP_6lFSGVrk"
      },
      "source": [
        "## Operadores Aritméticos\n",
        "\n",
        "Simbolo   | Significado\n",
        "--------- | ---------\n",
        "> | Maior que\n",
        "< | Menor que\n",
        ">= | Maior OU igual que\n",
        "<= | Menor OU igual que\n",
        "!= | Diferente de\n",
        "== | Igual a\n",
        "\n",
        "Caracteristicas desses operadores:\n",
        "\n",
        "* Sempre retornam True ou False\n",
        "* São usados para comparar valores\n",
        "* Utilize a técnica de perguntar\n",
        "\n"
      ]
    },
    {
      "cell_type": "code",
      "metadata": {
        "id": "zv1FLJwMXuFo"
      },
      "source": [
        "n1 = int(input('Digite o primeiro número: '))\n",
        "n2 = int(input('Digite o segundo número: '))\n",
        "\n",
        "print(f'{n1} é maior que {n2}? {n1 > n2}')\n",
        "print(f'{n1} é menor que {n2}? {n1 < n2}')\n",
        "print(f'{n1} é maior ou igual que {n2}? {n1 >= n2}')\n",
        "print(f'{n1} é menor ou igual que {n2}? {n1 <= n2}')\n",
        "print(f'{n1} é diferente de {n2}? {n1 != n2}')\n",
        "print(f'{n1} é igual a {n2}? {n1 == n2}')\n"
      ],
      "execution_count": null,
      "outputs": []
    },
    {
      "cell_type": "markdown",
      "metadata": {
        "id": "ARdFHWW5G_ke"
      },
      "source": [
        "## Operadores Lógicos\n",
        "\n",
        "* and (E)\n",
        "* or  (OU)\n",
        "* not (Negação)\n",
        "\n",
        "Retorna True ou False e compara duas expreções relacionais:"
      ]
    },
    {
      "cell_type": "code",
      "metadata": {
        "id": "6TNqv-1VZfK9"
      },
      "source": [
        "n1 = 1\n",
        "n2 = 2\n",
        "n3 = 3\n",
        "n4 = 4\n",
        "\n",
        "# Vamos perguntar: n1 é maior que n2 E n3 é menor que n4?\n",
        "# A resposta só será True se TODAS as relações forem True:\n",
        "\n",
        "print(n1 > n2 and n3 < n4) # Nesse caso da False, por que n1 não é maior que n2\n",
        "\n",
        "# Vamos perguntar: n1 é maior que n2 OU n3 é menor que n4?\n",
        "# A resposta será True se ao menos UMA relação for True:\n",
        "\n",
        "print(n1 > n2 or n3 < n4) # Nesse caso da True, por que pelo menos n3 é menor que n4\n",
        "\n",
        "# O operador NOT, serve para negar o resultado da operação.\n",
        "# Ou seja, ele inverte o resultado, se for True, transforma em False e vice versa.\n",
        "\n",
        "print(not n1 > n2) # Retorna True, por que o resultado de n1 maior que n2 é False\n",
        "\n",
        "# Para negar uma operação composta de operadores relacionais e lógicos devemos usar as {}:\n",
        "\n",
        "print(not {n1 > n2 or n3 < n4}) # Aqui retornaria True, se não fosse o not.\n"
      ],
      "execution_count": null,
      "outputs": []
    },
    {
      "cell_type": "markdown",
      "metadata": {
        "id": "V4Kg2SPIS27-"
      },
      "source": [
        "## Exercicios de operadores"
      ]
    },
    {
      "cell_type": "markdown",
      "metadata": {
        "id": "9rb59HolS6s9"
      },
      "source": [
        "04 - Elabore um programa que recebe dois valores inteiros e mostra a soma desses valores\n",
        "\n",
        "**Exemplo:**\n",
        "\n",
        "```\n",
        "Primeiro Valor = 2\n",
        "Segundo Valor = 3\n",
        "Soma = 5\n",
        "```"
      ]
    },
    {
      "cell_type": "code",
      "metadata": {
        "colab": {
          "base_uri": "https://localhost:8080/"
        },
        "id": "hT7lIVeccUHW",
        "outputId": "edd8f16c-78c9-42e6-ab5a-63976f3401ce"
      },
      "source": [
        "num1 = int(input('Digite o primeiro número: '))\n",
        "num2 = int(input('Digite o segundo número: '))\n",
        "print(f'Soma = {num1 + num2}')"
      ],
      "execution_count": null,
      "outputs": [
        {
          "output_type": "stream",
          "text": [
            "Digite o primeiro número: 5\n",
            "Digite o segundo número: 10\n",
            "Soma = 15\n"
          ],
          "name": "stdout"
        }
      ]
    },
    {
      "cell_type": "markdown",
      "metadata": {
        "id": "ToLeCDCuTCtz"
      },
      "source": [
        "05 - Elabore um programa que receba 4 notas de um aluno e calcule a média dele.\n",
        "\n",
        "**Exemplo:**\n",
        "\n",
        "```\n",
        "Primeiro Nota = 7\n",
        "Segundo Nota = 8\n",
        "Terceiro Nota = 10\n",
        "Quarto Nota = 6\n",
        "\n",
        "Média = 7,75\n",
        "```"
      ]
    },
    {
      "cell_type": "code",
      "metadata": {
        "colab": {
          "base_uri": "https://localhost:8080/"
        },
        "id": "rstcJZc-cx6u",
        "outputId": "12b2f769-bf71-4329-f923-22305ed0e129"
      },
      "source": [
        "nota1 = float(input(\"Primeira Nota = \"))\n",
        "nota2 = float(input(\"Segunda Nota = \"))\n",
        "nota3 = float(input(\"Terceira Nota = \"))\n",
        "nota4 = float(input(\"Quarta Nota = \"))\n",
        "print(f\"Média = {((nota1 + nota2 + nota3 + nota4) / 4):.2f}\")"
      ],
      "execution_count": null,
      "outputs": [
        {
          "output_type": "stream",
          "text": [
            "Primeira Nota = 5\n",
            "Segunda Nota = 9\n",
            "Terceira Nota = 6\n",
            "Quarta Nota = 4.2\n",
            "Média = 6.05\n"
          ],
          "name": "stdout"
        }
      ]
    },
    {
      "cell_type": "code",
      "metadata": {
        "id": "prR7zSN9kI_2"
      },
      "source": [
        ""
      ],
      "execution_count": null,
      "outputs": []
    },
    {
      "cell_type": "markdown",
      "metadata": {
        "id": "Jc42VswpUHgb"
      },
      "source": [
        "\n",
        "\n",
        "```\n",
        "# This is formatted as code\n",
        "```\n",
        "\n",
        "06 - Elabore um programa que recebe dois valores inteiros e mostra se o primeiro valor é maior ou igual ao segundo valor\n",
        "\n",
        "**Exemplo:**\n",
        "```\n",
        "Primeiro Valor = 3\n",
        "Segundo Valor = 2\n",
        "Resultado = True\n",
        "```"
      ]
    },
    {
      "cell_type": "code",
      "metadata": {
        "colab": {
          "base_uri": "https://localhost:8080/"
        },
        "id": "cSjEmUq0dk43",
        "outputId": "69760b17-5cfa-4be3-faaa-5c9f5239fbe5"
      },
      "source": [
        "num1 = int(input(\"Primeiro Valor = \"))\n",
        "num2 = int(input(\"Segundo Valor = \"))\n",
        "print(f\"Resultado = {num15 >= num2}\")"
      ],
      "execution_count": null,
      "outputs": [
        {
          "output_type": "stream",
          "text": [
            "Primeiro Valor = 5\n",
            "Segundo Valor = 5\n",
            "Resultado = True\n"
          ],
          "name": "stdout"
        }
      ]
    }
  ]
}