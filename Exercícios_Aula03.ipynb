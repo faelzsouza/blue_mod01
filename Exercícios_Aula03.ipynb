{
  "nbformat": 4,
  "nbformat_minor": 0,
  "metadata": {
    "colab": {
      "name": "Exercícios_Aula03.ipynb",
      "provenance": [],
      "authorship_tag": "ABX9TyOmDMmckbWusQ4whvTeJ5dY",
      "include_colab_link": true
    },
    "kernelspec": {
      "name": "python3",
      "display_name": "Python 3"
    },
    "language_info": {
      "name": "python"
    }
  },
  "cells": [
    {
      "cell_type": "markdown",
      "metadata": {
        "id": "view-in-github",
        "colab_type": "text"
      },
      "source": [
        "<a href=\"https://colab.research.google.com/github/faelzsouza/blue_mod01/blob/main/Exerc%C3%ADcios_Aula03.ipynb\" target=\"_parent\"><img src=\"https://colab.research.google.com/assets/colab-badge.svg\" alt=\"Open In Colab\"/></a>"
      ]
    },
    {
      "cell_type": "markdown",
      "metadata": {
        "id": "rzqG_ZKY3CQi"
      },
      "source": [
        "01 – Escreva um programa que deve receber o nome completo do usuário e retornar uma \n",
        "saudação com o nome no formato adequado (todas as primeiras letras em maiúsculas). </br>"
      ]
    },
    {
      "cell_type": "code",
      "metadata": {
        "colab": {
          "base_uri": "https://localhost:8080/"
        },
        "id": "t_mGhdZH26Iy",
        "outputId": "630cd8c1-1886-4696-cfa9-8f5717fad92b"
      },
      "source": [
        "#01\n",
        "nome = input(\"Digite seu nome completo: \").title()\n",
        "print()\n",
        "print(f\"Bem-vindo(a), {nome}!\")"
      ],
      "execution_count": 16,
      "outputs": [
        {
          "output_type": "stream",
          "text": [
            "Digite seu nome completo: joão da silva saulo\n",
            "\n",
            "Bem-vindo(a), João Da Silva Saulo!\n"
          ],
          "name": "stdout"
        }
      ]
    },
    {
      "cell_type": "markdown",
      "metadata": {
        "id": "lA0r4aF26fNR"
      },
      "source": [
        "02 – Escreva um programa que solicite uma frase ao usuário e escreva a frase toda em \n",
        "maiúscula e sem espaços em branco. </br>"
      ]
    },
    {
      "cell_type": "code",
      "metadata": {
        "colab": {
          "base_uri": "https://localhost:8080/"
        },
        "id": "wZxeRYuX33eh",
        "outputId": "e1495be3-5555-4e71-eaf7-986bb1c32a37"
      },
      "source": [
        "#02\n",
        "frase = input(\"Digite qualquer coisa: \").replace(\" \", \"\").upper()\n",
        "print()\n",
        "print(frase)"
      ],
      "execution_count": 17,
      "outputs": [
        {
          "output_type": "stream",
          "text": [
            "Digite qualquer coisa: olá, o que seria qualquer coisa?\n",
            "\n",
            "OLÁ,OQUESERIAQUALQUERCOISA?\n"
          ],
          "name": "stdout"
        }
      ]
    },
    {
      "cell_type": "markdown",
      "metadata": {
        "id": "7qcRE_RT6hd6"
      },
      "source": [
        "03 – Faça um programa que solicite a altura e o peso do usuário, e calcule o seu IMC. Os \n",
        "dados entrados precisam ser corrigidos pelo programa (trocando “,” por “.” e eliminando \n",
        "espaços e letras extras)."
      ]
    },
    {
      "cell_type": "code",
      "metadata": {
        "colab": {
          "base_uri": "https://localhost:8080/"
        },
        "id": "pZfosl-A4uEZ",
        "outputId": "4f2dee80-ba9e-4c91-a8e1-929c7f0063f1"
      },
      "source": [
        "#03\n",
        "print(\"-\" * 40)\n",
        "print(\" \" * 10 +\"Calculadora de IMC\")\n",
        "print(\"-\" * 40)\n",
        "peso = float(input(\"Me diga seu peso: \").replace(\",\",\".\"))\n",
        "print(\"-\" * 40)\n",
        "altura = float(input(\"E qual é a sua altura? \").replace(\",\",\".\"))\n",
        "print(\"-\" * 40)\n",
        "imc = peso / altura ** 2\n",
        "print(f\"Seu IMC é {imc:.1f}!\")"
      ],
      "execution_count": 22,
      "outputs": [
        {
          "output_type": "stream",
          "text": [
            "----------------------------------------\n",
            "          Calculadora de IMC\n",
            "----------------------------------------\n",
            "Me diga seu peso: 73,9\n",
            "----------------------------------------\n",
            "E qual é a sua altura? 1,73\n",
            "----------------------------------------\n",
            "Seu IMC é 24.7!\n"
          ],
          "name": "stdout"
        }
      ]
    }
  ]
}